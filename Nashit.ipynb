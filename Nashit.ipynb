{
 "cells": [
  {
   "cell_type": "code",
   "execution_count": 1,
   "id": "65d1eb50",
   "metadata": {},
   "outputs": [
    {
     "data": {
      "text/plain": [
       "bool"
      ]
     },
     "execution_count": 1,
     "metadata": {},
     "output_type": "execute_result"
    }
   ],
   "source": [
    "type(True)"
   ]
  },
  {
   "cell_type": "code",
   "execution_count": 2,
   "id": "7d713fb0",
   "metadata": {},
   "outputs": [
    {
     "name": "stdout",
     "output_type": "stream",
     "text": [
      "<class 'bool'>\n"
     ]
    }
   ],
   "source": [
    "print(type(False))"
   ]
  },
  {
   "cell_type": "code",
   "execution_count": 3,
   "id": "3db2188c",
   "metadata": {},
   "outputs": [
    {
     "data": {
      "text/plain": [
       "False"
      ]
     },
     "execution_count": 3,
     "metadata": {},
     "output_type": "execute_result"
    }
   ],
   "source": [
    "bool(0)"
   ]
  },
  {
   "cell_type": "code",
   "execution_count": 4,
   "id": "54cb2466",
   "metadata": {},
   "outputs": [
    {
     "data": {
      "text/plain": [
       "True"
      ]
     },
     "execution_count": 4,
     "metadata": {},
     "output_type": "execute_result"
    }
   ],
   "source": [
    "bool(9)"
   ]
  },
  {
   "cell_type": "code",
   "execution_count": 5,
   "id": "c1ab2e36",
   "metadata": {},
   "outputs": [
    {
     "data": {
      "text/plain": [
       "True"
      ]
     },
     "execution_count": 5,
     "metadata": {},
     "output_type": "execute_result"
    }
   ],
   "source": [
    "bool(2)"
   ]
  },
  {
   "cell_type": "code",
   "execution_count": 15,
   "id": "edb75307",
   "metadata": {},
   "outputs": [
    {
     "data": {
      "text/plain": [
       "True"
      ]
     },
     "execution_count": 15,
     "metadata": {},
     "output_type": "execute_result"
    }
   ],
   "source": [
    "bool(None)\n"
   ]
  },
  {
   "cell_type": "code",
   "execution_count": 1,
   "id": "51f95c37",
   "metadata": {},
   "outputs": [
    {
     "name": "stdout",
     "output_type": "stream",
     "text": [
      "You can continue.\n"
     ]
    }
   ],
   "source": [
    "condition = True\n",
    "\n",
    "if condition == True:\n",
    "    print(\"You can continue.\")\n",
    "else:\n",
    "    print(\"Stop!\")"
   ]
  },
  {
   "cell_type": "code",
   "execution_count": 13,
   "id": "ecb41ff0",
   "metadata": {},
   "outputs": [
    {
     "name": "stdout",
     "output_type": "stream",
     "text": [
      "a is greater than b\n"
     ]
    }
   ],
   "source": [
    "a = 12\n",
    "b = 5\n",
    "\n",
    "if a>b:\n",
    "    print (\"a is greater than b\")\n",
    "else:\n",
    "    print(\"b is greater than a\")"
   ]
  },
  {
   "cell_type": "code",
   "execution_count": 17,
   "id": "42fa9769",
   "metadata": {},
   "outputs": [
    {
     "data": {
      "text/plain": [
       "True"
      ]
     },
     "execution_count": 17,
     "metadata": {},
     "output_type": "execute_result"
    }
   ],
   "source": [
    "bool(\"Python\")"
   ]
  },
  {
   "cell_type": "code",
   "execution_count": 18,
   "id": "a8522bb1",
   "metadata": {},
   "outputs": [
    {
     "data": {
      "text/plain": [
       "False"
      ]
     },
     "execution_count": 18,
     "metadata": {},
     "output_type": "execute_result"
    }
   ],
   "source": [
    "bool(0)"
   ]
  },
  {
   "cell_type": "code",
   "execution_count": 19,
   "id": "2f1d2260",
   "metadata": {},
   "outputs": [
    {
     "data": {
      "text/plain": [
       "False"
      ]
     },
     "execution_count": 19,
     "metadata": {},
     "output_type": "execute_result"
    }
   ],
   "source": [
    "bool(\"\")"
   ]
  },
  {
   "cell_type": "code",
   "execution_count": 20,
   "id": "625dac1f",
   "metadata": {},
   "outputs": [
    {
     "data": {
      "text/plain": [
       "False"
      ]
     },
     "execution_count": 20,
     "metadata": {},
     "output_type": "execute_result"
    }
   ],
   "source": [
    "bool(())"
   ]
  },
  {
   "cell_type": "code",
   "execution_count": 21,
   "id": "4845f0f6",
   "metadata": {},
   "outputs": [
    {
     "data": {
      "text/plain": [
       "False"
      ]
     },
     "execution_count": 21,
     "metadata": {},
     "output_type": "execute_result"
    }
   ],
   "source": [
    "bool([])"
   ]
  },
  {
   "cell_type": "code",
   "execution_count": null,
   "id": "60ea86fd",
   "metadata": {},
   "outputs": [],
   "source": []
  },
  {
   "cell_type": "code",
   "execution_count": 15,
   "id": "7261d4c4",
   "metadata": {},
   "outputs": [
    {
     "name": "stdout",
     "output_type": "stream",
     "text": [
      "{True: 'Nashit', 2: 'Abhishek', 3: 'Avinash', 4: 'Bharti'}\n",
      "The absentees are:  Nashit , Avinash\n"
     ]
    }
   ],
   "source": [
    "a = {True:\"Nashit\", 2:\"Abhishek\", 3:\"Avinash\", 4:\"Bharti\"}\n",
    "print(a)\n",
    "type(a)\n",
    "print(\"The absentees are: \", a[1], \",\", a[3])"
   ]
  },
  {
   "cell_type": "code",
   "execution_count": 2,
   "id": "cfa1a456",
   "metadata": {},
   "outputs": [
    {
     "name": "stdout",
     "output_type": "stream",
     "text": [
      "dict_keys([1, 2, 3, 4])\n",
      "dict_values(['Nashit', 'Abhishek', 'Avinash', 'Bharti'])\n"
     ]
    }
   ],
   "source": [
    "print(a.keys())\n",
    "print(a.values())"
   ]
  },
  {
   "cell_type": "code",
   "execution_count": 4,
   "id": "a160359f",
   "metadata": {},
   "outputs": [
    {
     "name": "stdout",
     "output_type": "stream",
     "text": [
      "{'English': 87, 'Maths': 66, 'Science': 56, 'Computers': 85}\n",
      "<class 'dict'>\n",
      "dict_keys(['English', 'Maths', 'Science', 'Computers'])\n",
      "dict_values([87, 66, 56, 85])\n"
     ]
    }
   ],
   "source": [
    "a = {\"English\":87, \"Maths\":66, \"Science\": 56, \"Computers\": 85}\n",
    "print(a)\n",
    "print(type(a))\n",
    "print(a.keys())\n",
    "print(a.values())"
   ]
  },
  {
   "cell_type": "code",
   "execution_count": 6,
   "id": "202858f0",
   "metadata": {},
   "outputs": [
    {
     "name": "stdout",
     "output_type": "stream",
     "text": [
      "{'English': 65, 'Maths': 66, 'Science': 65}\n"
     ]
    }
   ],
   "source": [
    "a = {\"English\":87, \"Maths\":66, \"Science\": 65, \"English\":65}\n",
    "print(a)"
   ]
  },
  {
   "cell_type": "code",
   "execution_count": 8,
   "id": "bc0a4696",
   "metadata": {},
   "outputs": [
    {
     "name": "stdout",
     "output_type": "stream",
     "text": [
      "My marks in Maths :  66\n"
     ]
    }
   ],
   "source": [
    "print(\"My marks in Maths : \", a[\"Maths\"] )"
   ]
  },
  {
   "cell_type": "code",
   "execution_count": null,
   "id": "aefe5190",
   "metadata": {},
   "outputs": [],
   "source": []
  },
  {
   "cell_type": "code",
   "execution_count": 1,
   "id": "4e98d75a",
   "metadata": {},
   "outputs": [],
   "source": [
    "def my_function():              #function - block of code - reusable, particular action/function\n",
    "    print(\"Python is great!\")   # print(),"
   ]
  },
  {
   "cell_type": "code",
   "execution_count": 2,
   "id": "456e3053",
   "metadata": {},
   "outputs": [
    {
     "data": {
      "text/plain": [
       "18"
      ]
     },
     "execution_count": 2,
     "metadata": {},
     "output_type": "execute_result"
    }
   ],
   "source": [
    "9*2"
   ]
  },
  {
   "cell_type": "code",
   "execution_count": 3,
   "id": "80d4f577",
   "metadata": {},
   "outputs": [
    {
     "data": {
      "text/plain": [
       "8"
      ]
     },
     "execution_count": 3,
     "metadata": {},
     "output_type": "execute_result"
    }
   ],
   "source": [
    "5+3"
   ]
  },
  {
   "cell_type": "code",
   "execution_count": 4,
   "id": "043d0063",
   "metadata": {},
   "outputs": [
    {
     "name": "stdout",
     "output_type": "stream",
     "text": [
      "Python is great!\n"
     ]
    }
   ],
   "source": [
    "my_function()"
   ]
  },
  {
   "cell_type": "code",
   "execution_count": 5,
   "id": "1816437d",
   "metadata": {},
   "outputs": [
    {
     "name": "stdout",
     "output_type": "stream",
     "text": [
      "Prateek, Edunet\n",
      "Nashit, Edunet\n",
      "Shabaz, Edunet\n"
     ]
    }
   ],
   "source": [
    "def my_function(fn):\n",
    "    print(fn + \"Edunet\")\n",
    "    \n",
    "my_function(\"Prateek, \")\n",
    "my_function(\"Nashit, \")\n",
    "my_function(\"Shabaz, \")"
   ]
  },
  {
   "cell_type": "code",
   "execution_count": 6,
   "id": "ecd19ff2",
   "metadata": {},
   "outputs": [
    {
     "name": "stdout",
     "output_type": "stream",
     "text": [
      "Abhishek, Edunet\n"
     ]
    }
   ],
   "source": [
    "my_function(\"Abhishek, \")"
   ]
  },
  {
   "cell_type": "code",
   "execution_count": 8,
   "id": "db07833a",
   "metadata": {},
   "outputs": [
    {
     "name": "stdout",
     "output_type": "stream",
     "text": [
      "Abhishek Raman\n"
     ]
    }
   ],
   "source": [
    "def my_function(fn, ln):\n",
    "    print(fn+ \" \" + ln)\n",
    "    \n",
    "my_function(\"Abhishek\", \"Raman\")\n"
   ]
  },
  {
   "cell_type": "code",
   "execution_count": 9,
   "id": "90f8b4d1",
   "metadata": {},
   "outputs": [
    {
     "name": "stdout",
     "output_type": "stream",
     "text": [
      "Nashit Humam\n"
     ]
    }
   ],
   "source": [
    "my_function(\"Nashit\", \"Humam\")"
   ]
  },
  {
   "cell_type": "code",
   "execution_count": 11,
   "id": "df6683e9",
   "metadata": {},
   "outputs": [
    {
     "name": "stdout",
     "output_type": "stream",
     "text": [
      "The Prime Minister of India Narendra Modi\n"
     ]
    }
   ],
   "source": [
    "def my_function(*name):\n",
    "    print(\"The Prime Minister of India \" + name[2])\n",
    "    \n",
    "my_function(\"Pt Nehru\", \"Manmohan Singh\", \"Narendra Modi\", \"Rajiv Gandhi\")"
   ]
  },
  {
   "cell_type": "code",
   "execution_count": null,
   "id": "e65d7731",
   "metadata": {},
   "outputs": [],
   "source": []
  }
 ],
 "metadata": {
  "kernelspec": {
   "display_name": "Python 3 (ipykernel)",
   "language": "python",
   "name": "python3"
  },
  "language_info": {
   "codemirror_mode": {
    "name": "ipython",
    "version": 3
   },
   "file_extension": ".py",
   "mimetype": "text/x-python",
   "name": "python",
   "nbconvert_exporter": "python",
   "pygments_lexer": "ipython3",
   "version": "3.8.5"
  }
 },
 "nbformat": 4,
 "nbformat_minor": 5
}
