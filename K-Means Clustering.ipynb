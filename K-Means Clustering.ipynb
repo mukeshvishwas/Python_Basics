{
 "cells": [
  {
   "cell_type": "code",
   "execution_count": 1,
   "id": "52784690",
   "metadata": {},
   "outputs": [],
   "source": [
    "import numpy as np\n",
    "import matplotlib.pyplot as plt\n",
    "\n",
    "from matplotlib import style\n",
    "style.use('ggplot')\n",
    "from sklearn.cluster import KMeans"
   ]
  },
  {
   "cell_type": "code",
   "execution_count": 3,
   "id": "0a158d42",
   "metadata": {},
   "outputs": [
    {
     "data": {
      "image/png": "[encoded data removed]",
      "text/plain": [
       "<Figure size 432x288 with 1 Axes>"
      ]
     },
     "metadata": {},
     "output_type": "display_data"
    }
   ],
   "source": [
    "x = [1, 5, 1.5, 8, 1, 9]\n",
    "y = [2, 8, 1.8, 8, 0.6, 11]\n",
    "plt.scatter(x,y)\n",
    "plt.show()"
   ]
  },
  {
   "cell_type": "code",
   "execution_count": 4,
   "id": "a3ad6848",
   "metadata": {},
   "outputs": [
    {
     "data": {
      "text/plain": [
       "KMeans(n_clusters=2)"
      ]
     },
     "execution_count": 4,
     "metadata": {},
     "output_type": "execute_result"
    }
   ],
   "source": [
    "X = np.array([[1, 2], [5, 8], [1.5, 1.8], [8, 8], [1, 0.6], [9, 11]])\n",
    "kmeans = KMeans(n_clusters = 2)\n",
    "kmeans.fit(X)"
   ]
  },
  {
   "cell_type": "code",
   "execution_count": 5,
   "id": "17bd65b7",
   "metadata": {},
   "outputs": [
    {
     "name": "stdout",
     "output_type": "stream",
     "text": [
      "[[7.33333333 9.        ]\n",
      " [1.16666667 1.46666667]]\n",
      "[1 0 1 0 1 0]\n"
     ]
    }
   ],
   "source": [
    "centroids = kmeans.cluster_centers_\n",
    "labels = kmeans.labels_\n",
    "\n",
    "print(centroids)\n",
    "print(labels)"
   ]
  },
  {
   "cell_type": "code",
   "execution_count": 6,
   "id": "ef16c11f",
   "metadata": {},
   "outputs": [
    {
     "name": "stdout",
     "output_type": "stream",
     "text": [
      "coordinate:  [1. 2.] label:  1\n",
      "coordinate:  [5. 8.] label:  0\n",
      "coordinate:  [1.5 1.8] label:  1\n",
      "coordinate:  [8. 8.] label:  0\n",
      "coordinate:  [1.  0.6] label:  1\n",
      "coordinate:  [ 9. 11.] label:  0\n"
     ]
    },
    {
     "data": {
      "image/png": "[encoded data removed]",
      "text/plain": [
       "<Figure size 432x288 with 1 Axes>"
      ]
     },
     "metadata": {},
     "output_type": "display_data"
    }
   ],
   "source": [
    "colors = [\"g.\", \"r.\", \"c.\", \"y.\"]\n",
    "\n",
    "for i in range(len(X)):\n",
    "    print(\"coordinate: \", X[i], \"label: \", labels[i])\n",
    "    plt.plot(X[i][0], X[i][1], colors[labels[i]], markersize = 10)\n",
    "    \n",
    "plt.scatter(centroids[:, 0], centroids[:, 1], marker = \"x\", s = 150, linewidths = 5, zorder = 10)\n",
    "\n",
    "plt.show()"
   ]
  },
  {
   "cell_type": "code",
   "execution_count": null,
   "id": "f17a09b2",
   "metadata": {},
   "outputs": [],
   "source": []
  }
 ],
 "metadata": {
  "kernelspec": {
   "display_name": "Python 3 (ipykernel)",
   "language": "python",
   "name": "python3"
  },
  "language_info": {
   "codemirror_mode": {
    "name": "ipython",
    "version": 3
   },
   "file_extension": ".py",
   "mimetype": "text/x-python",
   "name": "python",
   "nbconvert_exporter": "python",
   "pygments_lexer": "ipython3",
   "version": "3.8.5"
  }
 },
 "nbformat": 4,
 "nbformat_minor": 5
}
